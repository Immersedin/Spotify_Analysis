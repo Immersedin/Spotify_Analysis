{
 "cells": [
  {
   "cell_type": "code",
   "execution_count": null,
   "id": "d37485cf",
   "metadata": {},
   "outputs": [],
   "source": [
    "data2 = pd.read_csv('695_finalproject_data.csv')\n",
    "data2 = data2.iloc[:,1:]\n",
    "data2"
   ]
  },
  {
   "cell_type": "code",
   "execution_count": null,
   "id": "5002ab6d",
   "metadata": {},
   "outputs": [],
   "source": [
    "X = data2.drop(columns=['popularity','name','artists'])\n",
    "from sklearn.preprocessing import StandardScaler\n",
    "scaler = StandardScaler()\n",
    "X_std = scaler.fit_transform(X)"
   ]
  },
  {
   "cell_type": "code",
   "execution_count": null,
   "id": "0e5173a9",
   "metadata": {},
   "outputs": [],
   "source": [
    "### Elbow method to find optimal k"
   ]
  },
  {
   "cell_type": "code",
   "execution_count": null,
   "id": "4a81f994",
   "metadata": {},
   "outputs": [],
   "source": [
    "############use Elbow method to find optimal k##########\n",
    "from sklearn.cluster import KMeans\n",
    "from sklearn.metrics import silhouette_samples\n",
    "from sklearn.metrics import silhouette_score\n",
    "\n",
    "from tqdm import tqdm\n",
    "withinss = []\n",
    "results = []\n",
    "for i in tqdm(range(2,8)):\n",
    "    kmeans = KMeans(n_clusters = i)\n",
    "    model = kmeans.fit(X_std)\n",
    "    labels = model.labels_\n",
    "    withinss.append(model.inertia_)\n",
    "    results.append(silhouette_score(X_std, labels))\n",
    "    \n"
   ]
  },
  {
   "cell_type": "code",
   "execution_count": null,
   "id": "3aa31534",
   "metadata": {},
   "outputs": [],
   "source": [
    "from matplotlib import pyplot\n",
    "print(\"Hi, please run the following two lines sepearately!!!!!!!  ;)\")\n",
    "#1\n",
    "pyplot.plot([2,3,4,5,6,7],withinss)"
   ]
  },
  {
   "cell_type": "code",
   "execution_count": null,
   "id": "e849d3e0",
   "metadata": {},
   "outputs": [],
   "source": [
    "#2\n",
    "pyplot.plot([2,3,4,5,6,7],results) \n",
    "print(\"From the second graph we can see, Silhouette score drops dramatically after k=3, so I decided to use k=3\")\n"
   ]
  },
  {
   "cell_type": "code",
   "execution_count": null,
   "id": "c067cf1e",
   "metadata": {},
   "outputs": [],
   "source": [
    "#use selected features to build k-Means model\n",
    "from sklearn.cluster import KMeans\n",
    "kmeans = KMeans(n_clusters = 3)\n",
    "model = kmeans.fit(X_std)\n",
    "labels = model.labels_\n",
    "labels\n",
    "\n",
    "from sklearn.metrics import silhouette_samples\n",
    "silhouette_samples(X_std, labels)\n",
    "\n",
    "from sklearn.metrics import silhouette_score\n",
    "silhouette_score(X_std, labels)\n"
   ]
  },
  {
   "cell_type": "code",
   "execution_count": null,
   "id": "84acf424",
   "metadata": {},
   "outputs": [],
   "source": [
    "#build a KMEANS with clusters = 8, so we can have more business insights\n",
    "from sklearn.cluster import KMeans\n",
    "kmeans = KMeans(n_clusters = 8)\n",
    "model = kmeans.fit(X_std)\n",
    "labels = model.labels_\n",
    "labels\n",
    "\n",
    "data2['Cluster'] = model.labels_"
   ]
  },
  {
   "cell_type": "code",
   "execution_count": null,
   "id": "f0906db0",
   "metadata": {},
   "outputs": [],
   "source": []
  },
  {
   "cell_type": "code",
   "execution_count": null,
   "id": "13458a25",
   "metadata": {},
   "outputs": [],
   "source": []
  }
 ],
 "metadata": {
  "kernelspec": {
   "display_name": "Python 3 (ipykernel)",
   "language": "python",
   "name": "python3"
  },
  "language_info": {
   "codemirror_mode": {
    "name": "ipython",
    "version": 3
   },
   "file_extension": ".py",
   "mimetype": "text/x-python",
   "name": "python",
   "nbconvert_exporter": "python",
   "pygments_lexer": "ipython3",
   "version": "3.9.7"
  },
  "toc": {
   "base_numbering": 1,
   "nav_menu": {},
   "number_sections": true,
   "sideBar": true,
   "skip_h1_title": false,
   "title_cell": "Table of Contents",
   "title_sidebar": "Contents",
   "toc_cell": false,
   "toc_position": {},
   "toc_section_display": true,
   "toc_window_display": false
  }
 },
 "nbformat": 4,
 "nbformat_minor": 5
}
