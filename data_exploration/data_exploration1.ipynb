{
 "cells": [
  {
   "cell_type": "markdown",
   "id": "4609fed8",
   "metadata": {},
   "source": [
    "# data exploration"
   ]
  },
  {
   "cell_type": "markdown",
   "id": "79ed72c0",
   "metadata": {},
   "source": [
    "Correlations (Check top 10 positive and negative correlations)"
   ]
  },
  {
   "cell_type": "code",
   "execution_count": null,
   "id": "ec896cef",
   "metadata": {},
   "outputs": [],
   "source": [
    "corr = data.corr()['popularity'].sort_values()\n",
    "\n",
    "# Display correlations\n",
    "print('Top 10 - Positive Correlations:')\n",
    "print('-----------------------------------')\n",
    "print(corr.tail(10))\n",
    "print('\\nTop 10 - Negative Correlations:')\n",
    "print('------------------------------')\n",
    "print(corr.head(10))"
   ]
  },
  {
   "cell_type": "markdown",
   "id": "4bae75b5",
   "metadata": {},
   "source": [
    "Correlation matrix"
   ]
  },
  {
   "cell_type": "code",
   "execution_count": null,
   "id": "ea491f7b",
   "metadata": {},
   "outputs": [],
   "source": [
    "import matplotlib.pyplot as plt\n",
    "import seaborn as sns\n",
    "\n",
    "plt.figure(figsize=(17,17))\n",
    "sns.heatmap(data.corr(),annot=True,cmap='Blues')\n",
    "b,t=plt.ylim()\n",
    "b+=0.5\n",
    "t-=0.5\n",
    "plt.ylim(b,t)\n",
    "plt.show()"
   ]
  },
  {
   "cell_type": "markdown",
   "id": "70c38228",
   "metadata": {},
   "source": [
    "Distribution of discrete features"
   ]
  },
  {
   "cell_type": "code",
   "execution_count": null,
   "id": "bfdce9a1",
   "metadata": {},
   "outputs": [],
   "source": [
    "discrete_cols = data[['mode','key', 'explicit', 'NumArtists', 'NameLength']]\n",
    "for i in discrete_cols:\n",
    "    plt.figure(figsize=(20,5))\n",
    "    plt.subplot(131)\n",
    "    sns.countplot(data[i])\n",
    "    plt.title(i+' Distribution')\n"
   ]
  },
  {
   "cell_type": "markdown",
   "id": "941f1bc0",
   "metadata": {},
   "source": [
    "Distribution of continuous features"
   ]
  },
  {
   "cell_type": "code",
   "execution_count": null,
   "id": "bfd52730",
   "metadata": {},
   "outputs": [],
   "source": [
    "continuous_cols = data.drop(columns = ['mode','key', 'explicit', 'NumArtists', 'NameLength'])\n",
    "for i in continuous_cols:\n",
    "    plt.figure(figsize=(20,5))\n",
    "    \n",
    "    plt.subplot(131)\n",
    "    sns.kdeplot(data[i],color='b',shade=True)\n",
    "    plt.title(i+' Distribution')"
   ]
  },
  {
   "cell_type": "markdown",
   "id": "a1ffa1d7",
   "metadata": {},
   "source": [
    "Before starting to construct the models, we need to detect if there exists the heteroskedasticity problem. Otherwise the inconsistency of a variance can cause the linear regression model to have high bias."
   ]
  },
  {
   "cell_type": "code",
   "execution_count": null,
   "id": "3f10dbd2",
   "metadata": {},
   "outputs": [],
   "source": [
    "data.head(5)"
   ]
  },
  {
   "cell_type": "code",
   "execution_count": null,
   "id": "81adbcfb",
   "metadata": {},
   "outputs": [],
   "source": [
    "x = data.drop(columns = ['popularity'])\n",
    "y = data['popularity']"
   ]
  },
  {
   "cell_type": "code",
   "execution_count": null,
   "id": "01fee030",
   "metadata": {},
   "outputs": [],
   "source": [
    "for i in x:\n",
    "    plt.figure()\n",
    "    plt.title(i + ' vs popularity')\n",
    "    plt.scatter(data[i], y)\n",
    "    plt.ylabel('popularity')"
   ]
  },
  {
   "cell_type": "markdown",
   "id": "d7e08703",
   "metadata": {},
   "source": [
    "According to the graphs above, there is no obvious horn shape figures existing. Thus we conclude that the heteroscedasticity does not exist in our dataset."
   ]
  },
  {
   "cell_type": "code",
   "execution_count": null,
   "id": "d3705a4c",
   "metadata": {},
   "outputs": [],
   "source": []
  },
  {
   "cell_type": "code",
   "execution_count": null,
   "id": "003f4b80",
   "metadata": {},
   "outputs": [],
   "source": []
  }
 ],
 "metadata": {
  "kernelspec": {
   "display_name": "Python 3 (ipykernel)",
   "language": "python",
   "name": "python3"
  },
  "language_info": {
   "codemirror_mode": {
    "name": "ipython",
    "version": 3
   },
   "file_extension": ".py",
   "mimetype": "text/x-python",
   "name": "python",
   "nbconvert_exporter": "python",
   "pygments_lexer": "ipython3",
   "version": "3.9.7"
  }
 },
 "nbformat": 4,
 "nbformat_minor": 5
}
